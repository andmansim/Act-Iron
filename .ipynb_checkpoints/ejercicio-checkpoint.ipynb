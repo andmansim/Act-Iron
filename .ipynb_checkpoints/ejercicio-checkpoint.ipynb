{
 "cells": [
  {
   "cell_type": "markdown",
   "id": "aef01e5a",
   "metadata": {},
   "source": [
    "# Lambdas, udef, filter, map"
   ]
  },
  {
   "cell_type": "markdown",
   "id": "3131bdb8",
   "metadata": {},
   "source": [
    "The goverment made a socilogical study of citizens at mid-40's. They gathered the following data:"
   ]
  },
  {
   "cell_type": "code",
   "execution_count": 5,
   "id": "70d86ca7",
   "metadata": {},
   "outputs": [],
   "source": [
    "citizens = [{ 'First Name': 'Preston' , 'Last Name': 'Cunningham', 'Age': 49 , 'Education': 'Doctoral', 'Occupation':' Teacher' ,'Experience (Years)': 6, 'Salary': 62499}, \n",
    " { 'First Name': 'Madaline', 'Last Name': 'Farrell', 'Age': 41, 'Education': 'Bachelor', 'Occupation': 'Insurer','Experience (Years)': 16, 'Salary': 50190},\n",
    " { 'First Name': 'Eleanor', 'Last Name': 'Carter', 'Age': 49, 'Education': 'Lower secondary', 'Occupation': 'Programmer','Experience (Years)': 18, 'Salary': 189716},\n",
    " { 'First Name': 'Adison', 'Last Name': 'Hall', 'Age': 42 , 'Education': 'Bachelor', 'Occupation': 'Florist','Experience (Years)': 21, 'Salary': 34517},\n",
    " { 'First Name': 'Grace', 'Last Name': 'Cooper', 'Age': 49, 'Education': 'Master', 'Occupation': 'Singer','Experience (Years)': 9, 'Salary': 51994},\n",
    " { 'First Name': 'Alford', 'Last Name': 'Kelley', 'Age': 49, 'Education': 'Bachelor', 'Occupation': 'Aeroplane Pilot','Experience (Years)': 9, 'Salary': 170466},\n",
    " { 'First Name': 'Vincent', 'Last Name': 'Anderson', 'Age': 47, 'Education': 'Master', 'Occupation': 'Botanist','Experience (Years)': 6, 'Salary': 71617},\n",
    " { 'First Name': 'Myra', 'Last Name': 'Wright', 'Age': 45, 'Education': 'Master', 'Occupation': 'Geologist' ,'Experience (Years)': 18, 'Salary': 48786},\n",
    " { 'First Name': 'Chester', 'Last Name':'Bennett', 'Age': 42, 'Education': 'Doctoral', 'Occupation': 'Astronomer','Experience (Years)': 13, 'Salary': 44826},\n",
    " { 'First Name': 'Blake', 'Last Name': 'Tucker', 'Age': 42, 'Education': 'Doctoral', 'Occupation': 'Firefighter','Experience (Years)': 21, 'Salary': 36761},\n",
    " { 'First Name': 'Paige', 'Last Name': 'Ryan', 'Age': 43, 'Education': 'Primary', 'Occupation': 'Fine Artist','Experience (Years)': 19, 'Salary': 28181},\n",
    " { 'First Name': 'Natalie', 'Last Name': 'Ellis', 'Age': 45, 'Education': 'Bachelor', 'Occupation': 'Baker','Experience (Years)': 0, 'Salary': 31194},\n",
    " { 'First Name': 'Martin', 'Last Name': 'Thompson', 'Age': 47, 'Education': 'Bachelor', 'Occupation': 'Journalist','Experience (Years)': 21, 'Salary': 90183},\n",
    " { 'First Name': 'Alan', 'Last Name': 'Sullivan', 'Age': 46, 'Education': 'Doctoral', 'Occupation': 'Singer','Experience (Years)': 2, 'Salary': 18440},\n",
    " { 'First Name': 'Inga', 'Last Name': 'Bergman', 'Age': 41, 'Education': 'Bachelor', 'Occupation': 'Producer','Experience (Years)': 22, 'Salary': 80029},\n",
    " { 'First Name': 'Freddy', 'Last Name': 'Brown', 'Age': 48, 'Education': 'Bachelor', 'Occupation': 'Economist','Experience (Years)': 18, 'Salary': 146217},\n",
    " { 'First Name': 'Adelaide', 'Last Name': 'Farrell', 'Age': 42, 'Education': 'Bachelor', 'Occupation': 'Mechanic','Experience (Years)': 9, 'Salary':19414},\n",
    " { 'First Name': 'Luke', 'Last Name': 'Cooper', 'Age': 40, 'Education': 'Upper secondary', 'Occupation': 'Producer','Experience (Years)': 17, 'Salary': 160541},\n",
    " { 'First Name': 'Sofia', 'Last Name': 'Hall', 'Age': 41, 'Education': 'Doctoral', 'Occupation': 'Baker','Experience (Years)': 1, 'Salary': 25904},\n",
    " { 'First Name': 'Ashton', 'Last Name': 'Kelly', 'Age': 49, 'Education': 'Master', 'Occupation': 'Chef','Experience (Years)': 6, 'Salary': 95533}\n",
    "]"
   ]
  },
  {
   "cell_type": "markdown",
   "id": "d9724b4c",
   "metadata": {},
   "source": [
    "The goverment wants to know some things about this sample of citizens."
   ]
  },
  {
   "cell_type": "markdown",
   "id": "de46f18a",
   "metadata": {},
   "source": [
    "## Exercise 1:\n",
    "\n",
    "1. Create a user defined function to compute the mean of a list of numbers.\n",
    "2. Use python code to store the ages of the citizens inside a list.\n",
    "3. Use your function to compute the mean age (round the mean age to one decimal) using `round()`\n",
    "\n",
    "Expected result:\n",
    "\n",
    "```python\n",
    "\"The mean age of the citizens is: average_age years\"\n",
    "```\n",
    "\n",
    "replacing `average_age` by the correspoding value."
   ]
  },
  {
   "cell_type": "code",
   "execution_count": 88,
   "id": "f949d413",
   "metadata": {},
   "outputs": [
    {
     "name": "stdout",
     "output_type": "stream",
     "text": [
      "[49, 41, 49, 42, 49, 49, 47, 45, 42, 42, 43, 45, 47, 46, 41, 48, 42, 40, 41, 49]\n"
     ]
    }
   ],
   "source": [
    "def datos(dato):\n",
    "    '''\n",
    "    Recorremos la lista de diccionarios, sacamos los datos que queremos y los guardamos en una lista\n",
    "    '''\n",
    "    lista= []\n",
    "    for i in citizens:\n",
    "        lista.append(i[dato])\n",
    "    return lista\n",
    "age = datos('Age')\n",
    "print(age)"
   ]
  },
  {
   "cell_type": "code",
   "execution_count": 7,
   "id": "22df254f",
   "metadata": {},
   "outputs": [
    {
     "data": {
      "text/plain": [
       "'The mean age of the citizens is: 45.0'"
      ]
     },
     "execution_count": 7,
     "metadata": {},
     "output_type": "execute_result"
    }
   ],
   "source": [
    "def media(lista):\n",
    "    '''\n",
    "    Le pasamos una lista con distintas edades y luego hacemos la media.\n",
    "    '''\n",
    "    suma = sum(lista)\n",
    "    media = round(suma/len(lista), 0)\n",
    "    return 'The mean age of the citizens is: ' + str(media)\n",
    "\n",
    "media(age)"
   ]
  },
  {
   "cell_type": "markdown",
   "id": "67b16e40",
   "metadata": {},
   "source": [
    "# Exercise 2:\n",
    "\n",
    "1. What are the unique educational levels?  \n",
    "2. How many unique educational levels are?\n",
    "3. What are the unique ocupations?\n",
    "4. How many unique ocupations are?"
   ]
  },
  {
   "cell_type": "code",
   "execution_count": 28,
   "id": "657831a2",
   "metadata": {},
   "outputs": [
    {
     "name": "stdout",
     "output_type": "stream",
     "text": [
      "The unic education values are ['Lower secondary', 'Primary', 'Upper secondary']\n",
      "\n",
      "They are 3 unic educational levels\n",
      "\n",
      "The unic ocupations values are [' Teacher', 'Insurer', 'Programmer', 'Florist', 'Aeroplane Pilot', 'Botanist', 'Geologist', 'Astronomer', 'Firefighter', 'Fine Artist', 'Journalist', 'Economist', 'Mechanic', 'Chef']\n",
      "\n",
      "They are 14 unic ocupational levels\n",
      "\n"
     ]
    }
   ],
   "source": [
    "education = datos('Education')\n",
    "ocupations = datos('Occupation')\n",
    "def unic(valores):\n",
    "    unicos = []\n",
    "    '''\n",
    "    Le pasamos los datos a examinar, que son los valores, y guardamos los valores únicos en la lista unicos.\n",
    "    '''\n",
    "    for i in range(len(valores)):\n",
    "        num = valores.count(valores[i])\n",
    "        if num == 1:\n",
    "            unicos.append(valores[i])\n",
    "    return unicos\n",
    "\n",
    "unicos = unic(education)      \n",
    "print('The unic education values are ' + str(unicos) + '\\n')\n",
    "print('They are ' + str(len(unicos)) + ' unic educational levels' + '\\n')\n",
    "unicos1 = unic(ocupations)\n",
    "print('The unic ocupations values are ' + str(unicos1) + '\\n')\n",
    "print('They are ' + str(len(unicos1)) + ' unic ocupational levels' + '\\n')\n",
    "\n",
    "    \n",
    "    "
   ]
  },
  {
   "cell_type": "markdown",
   "id": "42d09af6",
   "metadata": {},
   "source": [
    "# Exercise 3:\n",
    "\n",
    "1. Provide a new list in which avery element is another dictionary which only contains:\n",
    "\n",
    "* 'First Name'\n",
    "* 'Last Name'\n",
    "* and at which age they started working?\n",
    "   ( substract from the age the years of experience )\n",
    "\n",
    "Expected output:\n",
    "\n",
    "```python\n",
    "[{ 'First Name': name, 'Last Name': last_name,'Starting age': 27},\n",
    " ...\n",
    "]\n",
    "```"
   ]
  },
  {
   "cell_type": "code",
   "execution_count": 79,
   "id": "32d58f2e",
   "metadata": {
    "scrolled": true
   },
   "outputs": [
    {
     "data": {
      "text/plain": [
       "[{'First Name': 'Preston', 'Last Name': 'Cunningham', 'Starting age': 6},\n",
       " {'First Name': 'Madaline', 'Last Name': 'Farrell', 'Starting age': 16},\n",
       " {'First Name': 'Eleanor', 'Last Name': 'Carter', 'Starting age': 18},\n",
       " {'First Name': 'Adison', 'Last Name': 'Hall', 'Starting age': 21},\n",
       " {'First Name': 'Grace', 'Last Name': 'Cooper', 'Starting age': 9},\n",
       " {'First Name': 'Alford', 'Last Name': 'Kelley', 'Starting age': 9},\n",
       " {'First Name': 'Vincent', 'Last Name': 'Anderson', 'Starting age': 6},\n",
       " {'First Name': 'Myra', 'Last Name': 'Wright', 'Starting age': 18},\n",
       " {'First Name': 'Chester', 'Last Name': 'Bennett', 'Starting age': 13},\n",
       " {'First Name': 'Blake', 'Last Name': 'Tucker', 'Starting age': 21},\n",
       " {'First Name': 'Paige', 'Last Name': 'Ryan', 'Starting age': 19},\n",
       " {'First Name': 'Natalie', 'Last Name': 'Ellis', 'Starting age': 0},\n",
       " {'First Name': 'Martin', 'Last Name': 'Thompson', 'Starting age': 21},\n",
       " {'First Name': 'Alan', 'Last Name': 'Sullivan', 'Starting age': 2},\n",
       " {'First Name': 'Inga', 'Last Name': 'Bergman', 'Starting age': 22},\n",
       " {'First Name': 'Freddy', 'Last Name': 'Brown', 'Starting age': 18},\n",
       " {'First Name': 'Adelaide', 'Last Name': 'Farrell', 'Starting age': 9},\n",
       " {'First Name': 'Luke', 'Last Name': 'Cooper', 'Starting age': 17},\n",
       " {'First Name': 'Sofia', 'Last Name': 'Hall', 'Starting age': 1},\n",
       " {'First Name': 'Ashton', 'Last Name': 'Kelly', 'Starting age': 6}]"
      ]
     },
     "execution_count": 79,
     "metadata": {},
     "output_type": "execute_result"
    }
   ],
   "source": [
    "name = datos('First Name')\n",
    "l_name = datos('Last Name')\n",
    "year_exp= datos('Experience (Years)')\n",
    "year_exp.insert(11, 0)\n",
    "\n",
    "\n",
    "def edad_inicio(age, years):\n",
    "    '''\n",
    "    Restamos los años de trabajo a los años.\n",
    "    '''\n",
    "    lista = []\n",
    "    for i in range(len(years)):\n",
    "        inicio = age[i] - years[i]\n",
    "        lista.append(inicio)\n",
    "    return lista\n",
    "\n",
    "start_age = edad_inicio(age, year_exp ) \n",
    "\n",
    "def diccionario(lista1, lista2, lista3):\n",
    "    '''\n",
    "    Esta función coge el primer elemento de cada lista y lo transforma a diccionario. Para después borrar dicho elemento de la lista.\n",
    "    '''\n",
    "    lista = []\n",
    "    for j in range(len(lista1)):\n",
    "        dicc = {}\n",
    "        dicc['First Name']=lista1[0]\n",
    "        lista1.pop(0)\n",
    "        dicc['Last Name'] = lista2[0]\n",
    "        lista2.pop(0)\n",
    "        dicc['Experience (Years)'] = lista3[0]\n",
    "        lista3.pop(0)\n",
    "        lista.append(dicc)\n",
    "        \n",
    "    return lista\n",
    "\n",
    "    \n",
    "diccionario(name, l_name, year_exp)"
   ]
  },
  {
   "cell_type": "markdown",
   "id": "a1369045",
   "metadata": {},
   "source": [
    "# Exercise 4:\n",
    "\n",
    "1. Can you provide a dictionary which contains **unique** `Education` levels and the corresponding mean salary?\n",
    "2. Do the same but by `Occupation`\n",
    "\n",
    "Expected outputs:\n",
    "\n",
    "```python\n",
    "{'Doctoral': mean_salary_doctorals,\n",
    " 'Bachelor': mean_salaty_bachelors,\n",
    "...}\n",
    "```\n",
    "\n",
    "```python\n",
    "{'Teacher': mean_salary_teachers,\n",
    " 'Insurer': mean_salaty_insurers,\n",
    "...}\n",
    "````\n",
    "\n",
    "**CAVEAT!!** The statement says: UNIQUE!!!"
   ]
  },
  {
   "cell_type": "code",
   "execution_count": 89,
   "id": "fa79f821",
   "metadata": {},
   "outputs": [
    {
     "data": {
      "text/plain": [
       "{'eso': [1, 2, 3, 5], 'bachiller': [2, 5, 6], 'uni': [4]}"
      ]
     },
     "execution_count": 89,
     "metadata": {},
     "output_type": "execute_result"
    }
   ],
   "source": [
    "'''diccion = {'eso': [1,2,3], 'bachiller': [2,5,6]}\n",
    "diccion['uni'] = [4]\n",
    "diccion['eso'].append(5)\n",
    "diccion'''"
   ]
  },
  {
   "cell_type": "code",
   "execution_count": 106,
   "id": "3b09a37f",
   "metadata": {
    "scrolled": false
   },
   "outputs": [
    {
     "name": "stdout",
     "output_type": "stream",
     "text": [
      "{'Doctoral': 37686.0, 'Bachelor': 77776.25, 'Lower secondary': 189716.0, 'Master': 66982.5, 'Primary': 28181.0, 'Upper secondary': 160541.0}\n",
      "{' Teacher': 62499.0, 'Insurer': 50190.0, 'Programmer': 189716.0, 'Florist': 34517.0, 'Singer': 35217.0, 'Aeroplane Pilot': 170466.0, 'Botanist': 71617.0, 'Geologist': 48786.0, 'Astronomer': 44826.0, 'Firefighter': 36761.0, 'Fine Artist': 28181.0, 'Baker': 28549.0, 'Journalist': 90183.0, 'Producer': 120285.0, 'Economist': 146217.0, 'Mechanic': 19414.0, 'Chef': 95533.0}\n"
     ]
    }
   ],
   "source": [
    "\n",
    "def dicc_media(valor1, valor2):\n",
    "    '''\n",
    "    Nos añade a un diccionario vacio los distintos valores de educación y una lista de sus salarios correspondientes. \n",
    "    Además, nos calcula la media de dichos salarios\n",
    "    '''\n",
    "    diccion = {}\n",
    "    for i in citizens:\n",
    "        if i[valor1] not in diccion.keys():\n",
    "            diccion[i[valor1]] = [i[valor2]]\n",
    "\n",
    "        else:\n",
    "            diccion[i[valor1]].append(i[valor2])\n",
    "    for keys in diccion.keys():\n",
    "        diccion[keys] = sum(diccion[keys])/len(diccion[keys])\n",
    "\n",
    "    return diccion\n",
    "\n",
    "educ_salar = dicc_media('Education','Salary')\n",
    "print(educ_salar)\n",
    "ocup_salar = dicc_media('Occupation', 'Salary')\n",
    "print(ocup_salar)"
   ]
  },
  {
   "cell_type": "markdown",
   "id": "751b6315",
   "metadata": {},
   "source": [
    "# Exercise 5:\n",
    "\n",
    "1. Use a `lambda` function and `filter` to keep only citizens with 'Doctoral' educational level.\n",
    "2. Use a user defined function to obtain the same output"
   ]
  },
  {
   "cell_type": "markdown",
   "id": "71432147",
   "metadata": {},
   "source": [
    "The output in both cases should be:\n",
    "\n",
    "```python\n",
    "[{'First Name': 'Preston',\n",
    "  'Last Name': 'Cunningham',\n",
    "  'Age': 49,\n",
    "  'Education': 'Doctoral',\n",
    "  'Occupation': ' Teacher',\n",
    "  'Experience (Years)': 6,\n",
    "  'Salary': 62499},\n",
    " {'First Name': 'Chester',\n",
    "  'Last Name': 'Bennett',\n",
    "  'Age': 42,\n",
    "  'Education': 'Doctoral',\n",
    "  'Occupation': 'Astronomer',\n",
    "  'Experience (Years)': 13,\n",
    "  'Salary': 44826},\n",
    " {'First Name': 'Blake',\n",
    "  'Last Name': 'Tucker',\n",
    "  'Age': 42,\n",
    "  'Education': 'Doctoral',\n",
    "  'Occupation': 'Firefighter',\n",
    "  'Experience (Years)': 21,\n",
    "  'Salary': 36761},\n",
    " {'First Name': 'Alan',\n",
    "  'Last Name': 'Sullivan',\n",
    "  'Age': 46,\n",
    "  'Education': 'Doctoral',\n",
    "  'Occupation': 'Singer',\n",
    "  'Experience (Years)': 2,\n",
    "  'Salary': 18440},\n",
    " {'First Name': 'Sofia',\n",
    "  'Last Name': 'Hall',\n",
    "  'Age': 41,\n",
    "  'Education': 'Doctoral',\n",
    "  'Occupation': 'Baker',\n",
    "  'Experience (Years)': 1,\n",
    "  'Salary': 25904}]\n",
    "```"
   ]
  },
  {
   "cell_type": "code",
   "execution_count": 26,
   "id": "658b5176",
   "metadata": {},
   "outputs": [
    {
     "name": "stdout",
     "output_type": "stream",
     "text": [
      "[{'First Name': 'Preston', 'Last Name': 'Cunningham', 'Age': 49, 'Education': 'Doctoral', 'Occupation': ' Teacher', 'Experience (Years)': 6, 'Salary': 62499}, {'First Name': 'Chester', 'Last Name': 'Bennett', 'Age': 42, 'Education': 'Doctoral', 'Occupation': 'Astronomer', 'Experience (Years)': 13, 'Salary': 44826}, {'First Name': 'Blake', 'Last Name': 'Tucker', 'Age': 42, 'Education': 'Doctoral', 'Occupation': 'Firefighter', 'Experience (Years)': 21, 'Salary': 36761}, {'First Name': 'Alan', 'Last Name': 'Sullivan', 'Age': 46, 'Education': 'Doctoral', 'Occupation': 'Singer', 'Experience (Years)': 2, 'Salary': 18440}, {'First Name': 'Sofia', 'Last Name': 'Hall', 'Age': 41, 'Education': 'Doctoral', 'Occupation': 'Baker', 'Experience (Years)': 1, 'Salary': 25904}]\n",
      "\n",
      "\n",
      "[{'First Name': 'Preston', 'Last Name': 'Cunningham', 'Age': 49, 'Education': 'Doctoral', 'Occupation': ' Teacher', 'Experience (Years)': 6, 'Salary': 62499}, {'First Name': 'Chester', 'Last Name': 'Bennett', 'Age': 42, 'Education': 'Doctoral', 'Occupation': 'Astronomer', 'Experience (Years)': 13, 'Salary': 44826}, {'First Name': 'Blake', 'Last Name': 'Tucker', 'Age': 42, 'Education': 'Doctoral', 'Occupation': 'Firefighter', 'Experience (Years)': 21, 'Salary': 36761}, {'First Name': 'Alan', 'Last Name': 'Sullivan', 'Age': 46, 'Education': 'Doctoral', 'Occupation': 'Singer', 'Experience (Years)': 2, 'Salary': 18440}, {'First Name': 'Sofia', 'Last Name': 'Hall', 'Age': 41, 'Education': 'Doctoral', 'Occupation': 'Baker', 'Experience (Years)': 1, 'Salary': 25904}]\n"
     ]
    }
   ],
   "source": [
    "#parte 1\n",
    "\n",
    "l_n = list(filter(lambda x:  x['Education'] == 'Doctoral', citizens ))\n",
    "\n",
    "print(l_n)\n",
    "print('\\n')\n",
    "#parte 2\n",
    "def filtrar_dict():\n",
    "    dic1 = []\n",
    "    for i in citizens:\n",
    "        if i['Education'] == 'Doctoral':\n",
    "            dic1.append(i)\n",
    "    return dic1\n",
    "d_lista = filtrar_dict()\n",
    "print(d_lista)"
   ]
  },
  {
   "cell_type": "markdown",
   "id": "8364a01f",
   "metadata": {},
   "source": [
    "# Exercise 6:\n",
    "\n",
    "1. Use a `lambda` function alongside with `map()` to get a list of strings with the following pattern:\n",
    "\n",
    "\"First Name is number_of_years years old\"\n",
    "\n",
    "The expected output should be:\n",
    "\n",
    "```python\n",
    "['Preston Cunningham is 49 years old',\n",
    " 'Madaline Farrell is 41 years old',\n",
    " 'Eleanor Carter is 49 years old',\n",
    " 'Adison Hall is 42 years old',\n",
    " 'Grace Cooper is 49 years old',\n",
    " 'Alford Kelley is 49 years old',\n",
    " 'Vincent Anderson is 47 years old',\n",
    " 'Myra Wright is 45 years old',\n",
    " 'Chester Bennett is 42 years old',\n",
    " 'Blake Tucker is 42 years old',\n",
    " 'Paige Ryan is 43 years old',\n",
    " 'Natalie Ellis is 45 years old',\n",
    " 'Martin Thompson is 47 years old',\n",
    " 'Alan Sullivan is 46 years old',\n",
    " 'Inga Bergman is 41 years old',\n",
    " 'Freddy Brown is 48 years old',\n",
    " 'Adelaide Farrell is 42 years old',\n",
    " 'Luke Cooper is 40 years old',\n",
    " 'Sofia Hall is 41 years old',\n",
    " 'Ashton Kelly is 49 years old']\n",
    "```\n",
    "\n",
    "Hint: use `str()` to cast an integer into a string."
   ]
  },
  {
   "cell_type": "code",
   "execution_count": 32,
   "id": "ec9f3ee4",
   "metadata": {},
   "outputs": [
    {
     "data": {
      "text/plain": [
       "['Preston Cunningham is 49 years old',\n",
       " 'Madaline Farrell is 41 years old',\n",
       " 'Eleanor Carter is 49 years old',\n",
       " 'Adison Hall is 42 years old',\n",
       " 'Grace Cooper is 49 years old',\n",
       " 'Alford Kelley is 49 years old',\n",
       " 'Vincent Anderson is 47 years old',\n",
       " 'Myra Wright is 45 years old',\n",
       " 'Chester Bennett is 42 years old',\n",
       " 'Blake Tucker is 42 years old',\n",
       " 'Paige Ryan is 43 years old',\n",
       " 'Natalie Ellis is 45 years old',\n",
       " 'Martin Thompson is 47 years old',\n",
       " 'Alan Sullivan is 46 years old',\n",
       " 'Inga Bergman is 41 years old',\n",
       " 'Freddy Brown is 48 years old',\n",
       " 'Adelaide Farrell is 42 years old',\n",
       " 'Luke Cooper is 40 years old',\n",
       " 'Sofia Hall is 41 years old',\n",
       " 'Ashton Kelly is 49 years old']"
      ]
     },
     "execution_count": 32,
     "metadata": {},
     "output_type": "execute_result"
    }
   ],
   "source": [
    "nom_edad = list(map(lambda x: str(x['First Name']) + ' '+ str(x['Last Name']) + ' is ' + str(x['Age']) + ' years old', citizens ))\n",
    "nom_edad"
   ]
  },
  {
   "cell_type": "code",
   "execution_count": null,
   "id": "e6323225",
   "metadata": {},
   "outputs": [],
   "source": []
  }
 ],
 "metadata": {
  "kernelspec": {
   "display_name": "Python 3 (ipykernel)",
   "language": "python",
   "name": "python3"
  },
  "language_info": {
   "codemirror_mode": {
    "name": "ipython",
    "version": 3
   },
   "file_extension": ".py",
   "mimetype": "text/x-python",
   "name": "python",
   "nbconvert_exporter": "python",
   "pygments_lexer": "ipython3",
   "version": "3.9.12"
  }
 },
 "nbformat": 4,
 "nbformat_minor": 5
}
